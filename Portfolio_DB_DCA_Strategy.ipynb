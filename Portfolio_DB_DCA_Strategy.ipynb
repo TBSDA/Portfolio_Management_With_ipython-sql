{
 "cells": [
  {
   "cell_type": "markdown",
   "id": "amateur-valley",
   "metadata": {},
   "source": [
    "# Database tool to store portfolio data for DCA strategy"
   ]
  },
  {
   "cell_type": "markdown",
   "id": "manufactured-checklist",
   "metadata": {},
   "source": [
    "Install and create the SQLite DB"
   ]
  },
  {
   "cell_type": "code",
   "execution_count": 1,
   "id": "brown-journalist",
   "metadata": {},
   "outputs": [
    {
     "name": "stdout",
     "output_type": "stream",
     "text": [
      "Requirement already satisfied: ipython-sql in c:\\users\\marcel\\appdata\\local\\programs\\python\\python37\\lib\\site-packages (0.4.0)\n",
      "Requirement already satisfied: prettytable<1 in c:\\users\\marcel\\appdata\\local\\programs\\python\\python37\\lib\\site-packages (from ipython-sql) (0.7.2)\n",
      "Requirement already satisfied: six in c:\\users\\marcel\\appdata\\local\\programs\\python\\python37\\lib\\site-packages (from ipython-sql) (1.15.0)\n",
      "Requirement already satisfied: sqlparse in c:\\users\\marcel\\appdata\\local\\programs\\python\\python37\\lib\\site-packages (from ipython-sql) (0.4.2)\n",
      "Requirement already satisfied: ipython-genutils>=0.1.0 in c:\\users\\marcel\\appdata\\local\\programs\\python\\python37\\lib\\site-packages (from ipython-sql) (0.2.0)\n",
      "Requirement already satisfied: ipython>=1.0 in c:\\users\\marcel\\appdata\\local\\programs\\python\\python37\\lib\\site-packages (from ipython-sql) (7.22.0)\n",
      "Requirement already satisfied: sqlalchemy>=0.6.7 in c:\\users\\marcel\\appdata\\local\\programs\\python\\python37\\lib\\site-packages (from ipython-sql) (1.4.28)\n",
      "Requirement already satisfied: setuptools>=18.5 in c:\\users\\marcel\\appdata\\local\\programs\\python\\python37\\lib\\site-packages (from ipython>=1.0->ipython-sql) (41.2.0)\n",
      "Requirement already satisfied: jedi>=0.16 in c:\\users\\marcel\\appdata\\local\\programs\\python\\python37\\lib\\site-packages (from ipython>=1.0->ipython-sql) (0.18.0)\n",
      "Requirement already satisfied: traitlets>=4.2 in c:\\users\\marcel\\appdata\\local\\programs\\python\\python37\\lib\\site-packages (from ipython>=1.0->ipython-sql) (5.0.5)\n",
      "Requirement already satisfied: decorator in c:\\users\\marcel\\appdata\\local\\programs\\python\\python37\\lib\\site-packages (from ipython>=1.0->ipython-sql) (4.4.2)\n",
      "Requirement already satisfied: prompt-toolkit!=3.0.0,!=3.0.1,<3.1.0,>=2.0.0 in c:\\users\\marcel\\appdata\\local\\programs\\python\\python37\\lib\\site-packages (from ipython>=1.0->ipython-sql) (3.0.18)\n",
      "Requirement already satisfied: pygments in c:\\users\\marcel\\appdata\\local\\programs\\python\\python37\\lib\\site-packages (from ipython>=1.0->ipython-sql) (2.8.1)\n",
      "Requirement already satisfied: backcall in c:\\users\\marcel\\appdata\\local\\programs\\python\\python37\\lib\\site-packages (from ipython>=1.0->ipython-sql) (0.2.0)\n",
      "Requirement already satisfied: colorama in c:\\users\\marcel\\appdata\\local\\programs\\python\\python37\\lib\\site-packages (from ipython>=1.0->ipython-sql) (0.4.4)\n",
      "Requirement already satisfied: pickleshare in c:\\users\\marcel\\appdata\\local\\programs\\python\\python37\\lib\\site-packages (from ipython>=1.0->ipython-sql) (0.7.5)\n",
      "Requirement already satisfied: greenlet!=0.4.17 in c:\\users\\marcel\\appdata\\local\\programs\\python\\python37\\lib\\site-packages (from sqlalchemy>=0.6.7->ipython-sql) (1.1.2)\n",
      "Requirement already satisfied: importlib-metadata in c:\\users\\marcel\\appdata\\local\\programs\\python\\python37\\lib\\site-packages (from sqlalchemy>=0.6.7->ipython-sql) (3.9.0)\n",
      "Requirement already satisfied: parso<0.9.0,>=0.8.0 in c:\\users\\marcel\\appdata\\local\\programs\\python\\python37\\lib\\site-packages (from jedi>=0.16->ipython>=1.0->ipython-sql) (0.8.1)\n",
      "Requirement already satisfied: wcwidth in c:\\users\\marcel\\appdata\\local\\programs\\python\\python37\\lib\\site-packages (from prompt-toolkit!=3.0.0,!=3.0.1,<3.1.0,>=2.0.0->ipython>=1.0->ipython-sql) (0.2.5)\n",
      "Requirement already satisfied: typing-extensions>=3.6.4 in c:\\users\\marcel\\appdata\\local\\programs\\python\\python37\\lib\\site-packages (from importlib-metadata->sqlalchemy>=0.6.7->ipython-sql) (3.7.4.3)\n",
      "Requirement already satisfied: zipp>=0.5 in c:\\users\\marcel\\appdata\\local\\programs\\python\\python37\\lib\\site-packages (from importlib-metadata->sqlalchemy>=0.6.7->ipython-sql) (3.4.1)\n"
     ]
    }
   ],
   "source": [
    "!pip install ipython-sql"
   ]
  },
  {
   "cell_type": "code",
   "execution_count": 2,
   "id": "outdoor-nicholas",
   "metadata": {},
   "outputs": [],
   "source": [
    "%load_ext sql"
   ]
  },
  {
   "cell_type": "code",
   "execution_count": 3,
   "id": "preliminary-qualification",
   "metadata": {},
   "outputs": [],
   "source": [
    "%sql sqlite://"
   ]
  },
  {
   "cell_type": "code",
   "execution_count": 4,
   "id": "dying-namibia",
   "metadata": {},
   "outputs": [],
   "source": [
    "import pandas as pd\n",
    "import sqlite3"
   ]
  },
  {
   "cell_type": "markdown",
   "id": "institutional-store",
   "metadata": {},
   "source": [
    "Create a table and DB (if not created yet)"
   ]
  },
  {
   "cell_type": "code",
   "execution_count": 5,
   "id": "floating-forth",
   "metadata": {},
   "outputs": [],
   "source": [
    "def create_table():\n",
    "    conn = sqlite3.connect('portfolio.db')\n",
    "    c = conn.cursor()\n",
    "    try:\n",
    "        # actual value (from last input POV)\n",
    "        c.execute(\"\"\"\n",
    "            CREATE TABLE DCA_portfolio (\n",
    "            company_name text,\n",
    "            ticker text,\n",
    "            shares integer,\n",
    "            last_buy_price real,\n",
    "            avg_price real,\n",
    "            invested_value real,\n",
    "            actual_value real,\n",
    "            profit real,\n",
    "            share_in_portfolio real\n",
    "            )\"\"\")\n",
    "        conn.commit()\n",
    "        conn.close()\n",
    "    except Exception as e:\n",
    "        conn.commit()\n",
    "        conn.close()\n",
    "        print(e)"
   ]
  },
  {
   "cell_type": "code",
   "execution_count": 6,
   "id": "productive-telescope",
   "metadata": {},
   "outputs": [],
   "source": [
    "create_table()"
   ]
  },
  {
   "cell_type": "markdown",
   "id": "comfortable-conjunction",
   "metadata": {},
   "source": [
    "Insert some test data statically"
   ]
  },
  {
   "cell_type": "code",
   "execution_count": 7,
   "id": "infrared-settle",
   "metadata": {},
   "outputs": [],
   "source": [
    "def insert_test_data():\n",
    "    ''' Used just for initial testing '''\n",
    "    conn = sqlite3.connect('portfolio.db')\n",
    "    c = conn.cursor()\n",
    "    c.execute(\"INSERT INTO DCA_portfolio VALUES (?,?,?,?,?,?,?,?,?)\", ('company_name', 'xxx', 100, 50.2, 48.25, 4825, 5020, 195, 1))\n",
    "    c.execute(\"INSERT INTO DCA_portfolio VALUES (?,?,?,?,?,?,?,?,?)\", ('company_name2', 'yyy', 75, 102.5, 102.5, 7687.5, 7687.5, 0, 1))\n",
    "    conn.commit()\n",
    "    conn.close()"
   ]
  },
  {
   "cell_type": "code",
   "execution_count": 8,
   "id": "otherwise-specification",
   "metadata": {},
   "outputs": [],
   "source": [
    "# insert_test_data()"
   ]
  },
  {
   "cell_type": "markdown",
   "id": "exceptional-reproduction",
   "metadata": {},
   "source": [
    "Show the portfolio with test data"
   ]
  },
  {
   "cell_type": "code",
   "execution_count": 10,
   "id": "static-decision",
   "metadata": {},
   "outputs": [],
   "source": [
    "def show_portfolio():\n",
    "    conn = sqlite3.connect('portfolio.db')\n",
    "    c = conn.cursor()\n",
    "    c.execute(\"SELECT * FROM DCA_portfolio\")\n",
    "    table = c.fetchall()\n",
    "    conn.commit()\n",
    "    conn.close()\n",
    "    return table"
   ]
  },
  {
   "cell_type": "code",
   "execution_count": 11,
   "id": "understanding-feeding",
   "metadata": {},
   "outputs": [
    {
     "data": {
      "text/plain": [
       "[('company_name', 'xxx', 100, 50.2, 48.25, 4825.0, 5020.0, 195.0, 1.0),\n",
       " ('company_name2', 'yyy', 75, 102.5, 102.5, 7687.5, 7687.5, 0.0, 1.0)]"
      ]
     },
     "execution_count": 11,
     "metadata": {},
     "output_type": "execute_result"
    }
   ],
   "source": [
    "show_portfolio()"
   ]
  },
  {
   "cell_type": "markdown",
   "id": "comprehensive-cycle",
   "metadata": {},
   "source": [
    "Create the functions needed to calculate values for new portfolio position"
   ]
  },
  {
   "cell_type": "code",
   "execution_count": 12,
   "id": "seasonal-sudan",
   "metadata": {},
   "outputs": [],
   "source": [
    "def get_last_buy_price(c, ticker, price):\n",
    "    c.execute(\"SELECT last_buy_price FROM DCA_portfolio WHERE ticker = ?\", (ticker,))\n",
    "    lbp = c.fetchall()\n",
    "    return lbp[0][0] if lbp else price"
   ]
  },
  {
   "cell_type": "code",
   "execution_count": 13,
   "id": "painful-environment",
   "metadata": {},
   "outputs": [],
   "source": [
    "def get_avg_price(c, ticker, price, shares):\n",
    "    c.execute(\"SELECT avg_price FROM DCA_portfolio WHERE ticker = ?\", (ticker,))\n",
    "    ap = c.fetchall()\n",
    "    if not ap:\n",
    "        return price\n",
    "    else:\n",
    "        c.execute(\"SELECT shares FROM DCA_portfolio WHERE ticker = ?\", (ticker,))\n",
    "        ash = c.fetchall()[0][0]\n",
    "        ap = ap[0][0]\n",
    "        ap = (ap * ash + shares * price)/(ash+shares)\n",
    "        return ap"
   ]
  },
  {
   "cell_type": "code",
   "execution_count": 14,
   "id": "outer-intro",
   "metadata": {},
   "outputs": [],
   "source": [
    "# get invested value\n",
    "def get_invested_value(c, ticker, price, shares):\n",
    "    c.execute(\"SELECT invested_value FROM DCA_portfolio WHERE ticker = ?\", (ticker,))\n",
    "    iv = c.fetchall()\n",
    "    if not iv:\n",
    "        return price*shares\n",
    "    else:\n",
    "        return iv[0][0]+(price*shares)"
   ]
  },
  {
   "cell_type": "code",
   "execution_count": 15,
   "id": "figured-airplane",
   "metadata": {},
   "outputs": [],
   "source": [
    "# get actual value (from last input POV)\n",
    "def get_actual_value(c, ticker, price, shares):\n",
    "    c.execute(\"SELECT actual_value FROM DCA_portfolio WHERE ticker = ?\", (ticker,))\n",
    "    av = c.fetchall()\n",
    "    if not av:\n",
    "        return price*shares\n",
    "    else:\n",
    "        c.execute(\"SELECT shares FROM DCA_portfolio WHERE ticker = ?\", (ticker,))\n",
    "        ash = c.fetchall()[0][0]\n",
    "        return price*(shares+ash)"
   ]
  },
  {
   "cell_type": "code",
   "execution_count": 16,
   "id": "encouraging-chuck",
   "metadata": {},
   "outputs": [],
   "source": [
    "def get_share_in_portfolio(c, actual_value):\n",
    "    ''' get the current size of the position in the portfolio [%] '''\n",
    "    c.execute(\"SELECT actual_value FROM DCA_portfolio\")\n",
    "    psvl = c.fetchall()\n",
    "    if not psvl:\n",
    "        return 100\n",
    "    else:\n",
    "        avl = [x[0] for x in psvl]\n",
    "        return 100*actual_value/(sum(avl)+actual_value) # sum of existing + the new position"
   ]
  },
  {
   "cell_type": "code",
   "execution_count": 17,
   "id": "norman-sierra",
   "metadata": {},
   "outputs": [],
   "source": [
    "def get_shares(c, ticker, shares):\n",
    "    c.execute(\"SELECT shares FROM DCA_portfolio WHERE ticker=?\", (ticker,))\n",
    "    return c.fetchall()[0][0]+shares"
   ]
  },
  {
   "cell_type": "code",
   "execution_count": 18,
   "id": "elegant-relationship",
   "metadata": {},
   "outputs": [],
   "source": [
    "def asset_exist(company_name, ticker):\n",
    "    conn = sqlite3.connect('portfolio.db')\n",
    "    c = conn.cursor()\n",
    "    c.execute(\"SELECT company_name, ticker FROM DCA_portfolio WHERE company_name=? AND ticker=?\", (company_name, ticker))\n",
    "    exist = c.fetchone()\n",
    "    conn.commit()\n",
    "    conn.close()\n",
    "    return bool(exist)"
   ]
  },
  {
   "cell_type": "code",
   "execution_count": 19,
   "id": "mysterious-scenario",
   "metadata": {},
   "outputs": [],
   "source": [
    "def round_2(n):\n",
    "    return round(n, 2)"
   ]
  },
  {
   "cell_type": "markdown",
   "id": "matched-ranking",
   "metadata": {},
   "source": [
    "Function for adding new position into portfolio"
   ]
  },
  {
   "cell_type": "code",
   "execution_count": 20,
   "id": "fleet-dialogue",
   "metadata": {},
   "outputs": [],
   "source": [
    "# would be better to perform it as a class (along with adding functions)\n",
    "def add_shares(company_name, ticker, shares, price):\n",
    "    conn = sqlite3.connect('portfolio.db')\n",
    "    c = conn.cursor()\n",
    "    \n",
    "    last_buy_price = price #get_last_buy_price(c, ticker, price)\n",
    "    avg_price = round_2(get_avg_price(c, ticker, price, shares))\n",
    "    invested_value = round_2(get_invested_value(c, ticker, price, shares))\n",
    "    actual_value = round_2(get_actual_value(c, ticker, price, shares))\n",
    "    profit = round_2(100*(actual_value-invested_value)/invested_value)\n",
    "    share_in_portfolio = round_2(get_share_in_portfolio(c, actual_value)) # that will need to be updated (the values to be wrong after adding new asset)\n",
    "    \n",
    "    if asset_exist(company_name, ticker):\n",
    "        shares = get_shares(c, ticker, shares)\n",
    "        c.execute(\"\"\"UPDATE DCA_portfolio \n",
    "                  SET shares=?,\n",
    "                      last_buy_price=?,\n",
    "                      avg_price=?,\n",
    "                      invested_value=?,\n",
    "                      actual_value=?,\n",
    "                      profit=?,\n",
    "                      share_in_portfolio=?\n",
    "                  WHERE company_name=? AND ticker=?\"\"\", (shares, last_buy_price, avg_price, invested_value, actual_value, profit, share_in_portfolio, company_name, ticker))\n",
    "    else:\n",
    "        c.execute(\"INSERT INTO DCA_portfolio VALUES (?,?,?,?,?,?,?,?,?)\", (company_name, ticker, shares, last_buy_price, avg_price, invested_value, actual_value, profit, share_in_portfolio))\n",
    "\n",
    "    conn.commit()\n",
    "    conn.close()"
   ]
  },
  {
   "cell_type": "markdown",
   "id": "deadly-naples",
   "metadata": {},
   "source": [
    "Let's add a test asset"
   ]
  },
  {
   "cell_type": "code",
   "execution_count": 21,
   "id": "pending-rally",
   "metadata": {},
   "outputs": [],
   "source": [
    "add_shares('test', 't2', 200, 37.5)"
   ]
  },
  {
   "cell_type": "code",
   "execution_count": 22,
   "id": "consecutive-yield",
   "metadata": {},
   "outputs": [
    {
     "data": {
      "text/plain": [
       "[('company_name', 'xxx', 100, 50.2, 48.25, 4825.0, 5020.0, 195.0, 1.0),\n",
       " ('company_name2', 'yyy', 75, 102.5, 102.5, 7687.5, 7687.5, 0.0, 1.0),\n",
       " ('test', 't2', 200, 37.5, 37.5, 7500.0, 7500.0, 0.0, 37.11)]"
      ]
     },
     "execution_count": 22,
     "metadata": {},
     "output_type": "execute_result"
    }
   ],
   "source": [
    "show_portfolio()"
   ]
  },
  {
   "cell_type": "markdown",
   "id": "touched-diabetes",
   "metadata": {},
   "source": [
    "Let's update asset"
   ]
  },
  {
   "cell_type": "code",
   "execution_count": 23,
   "id": "strong-cylinder",
   "metadata": {},
   "outputs": [],
   "source": [
    "add_shares('company_name', 'xxx', 50, 51.2)\n",
    "add_shares('company_name2', 'yyy', 100, 97.5)"
   ]
  },
  {
   "cell_type": "code",
   "execution_count": 24,
   "id": "arbitrary-samoa",
   "metadata": {},
   "outputs": [
    {
     "data": {
      "text/plain": [
       "[('company_name', 'xxx', 150, 51.2, 49.23, 7385.0, 7680.0, 3.99, 27.54),\n",
       " ('company_name2', 'yyy', 175, 97.5, 99.64, 17437.5, 17062.5, -2.15, 42.73),\n",
       " ('test', 't2', 200, 37.5, 37.5, 7500.0, 7500.0, 0.0, 37.11)]"
      ]
     },
     "execution_count": 24,
     "metadata": {},
     "output_type": "execute_result"
    }
   ],
   "source": [
    "show_portfolio()"
   ]
  },
  {
   "cell_type": "markdown",
   "id": "distributed-wallace",
   "metadata": {},
   "source": [
    "After adding at least one asset the share_in_portfolio column needs to be updated"
   ]
  },
  {
   "cell_type": "code",
   "execution_count": 28,
   "id": "lyric-cinema",
   "metadata": {},
   "outputs": [],
   "source": [
    "def update_the_share_in_portfolio():\n",
    "    conn = sqlite3.connect('portfolio.db')\n",
    "    c = conn.cursor()\n",
    "    c.execute(\"SELECT company_name, actual_value FROM DCA_portfolio\") # instead of the company name the ticker can be used as well\n",
    "    psvl = c.fetchall()\n",
    "    avs = sum([x[1] for x in psvl])\n",
    "    for comp, value in psvl:\n",
    "        c.execute(\"UPDATE DCA_portfolio SET share_in_portfolio = ? WHERE company_name = ?\", (round_2(100*value/(avs)), comp))\n",
    "    conn.commit()\n",
    "    conn.close()"
   ]
  },
  {
   "cell_type": "code",
   "execution_count": 29,
   "id": "speaking-mongolia",
   "metadata": {},
   "outputs": [],
   "source": [
    "update_the_share_in_portfolio()"
   ]
  },
  {
   "cell_type": "markdown",
   "id": "champion-compensation",
   "metadata": {},
   "source": [
    "Let's verify the updates"
   ]
  },
  {
   "cell_type": "code",
   "execution_count": 30,
   "id": "shaped-patio",
   "metadata": {},
   "outputs": [
    {
     "data": {
      "text/plain": [
       "[('company_name', 'xxx', 150, 51.2, 49.23, 7385.0, 7680.0, 3.99, 23.82),\n",
       " ('company_name2', 'yyy', 175, 97.5, 99.64, 17437.5, 17062.5, -2.15, 52.92),\n",
       " ('test', 't2', 200, 37.5, 37.5, 7500.0, 7500.0, 0.0, 23.26)]"
      ]
     },
     "execution_count": 30,
     "metadata": {},
     "output_type": "execute_result"
    }
   ],
   "source": [
    "show_portfolio()"
   ]
  },
  {
   "cell_type": "code",
   "execution_count": null,
   "id": "widespread-catalog",
   "metadata": {},
   "outputs": [],
   "source": []
  }
 ],
 "metadata": {
  "kernelspec": {
   "display_name": "Python 3",
   "language": "python",
   "name": "python3"
  },
  "language_info": {
   "codemirror_mode": {
    "name": "ipython",
    "version": 3
   },
   "file_extension": ".py",
   "mimetype": "text/x-python",
   "name": "python",
   "nbconvert_exporter": "python",
   "pygments_lexer": "ipython3",
   "version": "3.7.6"
  }
 },
 "nbformat": 4,
 "nbformat_minor": 5
}
