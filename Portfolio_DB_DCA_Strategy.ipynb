{
 "cells": [
  {
   "cell_type": "markdown",
   "id": "amateur-valley",
   "metadata": {},
   "source": [
    "# Database tool to store portfolio data for DCA strategy"
   ]
  },
  {
   "cell_type": "markdown",
   "id": "manufactured-checklist",
   "metadata": {},
   "source": [
    "Install and create the SQLite DB"
   ]
  },
  {
   "cell_type": "code",
   "execution_count": 1,
   "id": "brown-journalist",
   "metadata": {},
   "outputs": [
    {
     "name": "stdout",
     "output_type": "stream",
     "text": [
      "Requirement already satisfied: ipython-sql in c:\\users\\marcel\\appdata\\local\\programs\\python\\python37\\lib\\site-packages (0.4.0)\n",
      "Requirement already satisfied: ipython>=1.0 in c:\\users\\marcel\\appdata\\local\\programs\\python\\python37\\lib\\site-packages (from ipython-sql) (7.22.0)\n",
      "Requirement already satisfied: six in c:\\users\\marcel\\appdata\\local\\programs\\python\\python37\\lib\\site-packages (from ipython-sql) (1.15.0)\n",
      "Requirement already satisfied: sqlalchemy>=0.6.7 in c:\\users\\marcel\\appdata\\local\\programs\\python\\python37\\lib\\site-packages (from ipython-sql) (1.4.28)\n",
      "Requirement already satisfied: prettytable<1 in c:\\users\\marcel\\appdata\\local\\programs\\python\\python37\\lib\\site-packages (from ipython-sql) (0.7.2)\n",
      "Requirement already satisfied: sqlparse in c:\\users\\marcel\\appdata\\local\\programs\\python\\python37\\lib\\site-packages (from ipython-sql) (0.4.2)\n",
      "Requirement already satisfied: ipython-genutils>=0.1.0 in c:\\users\\marcel\\appdata\\local\\programs\\python\\python37\\lib\\site-packages (from ipython-sql) (0.2.0)\n",
      "Requirement already satisfied: jedi>=0.16 in c:\\users\\marcel\\appdata\\local\\programs\\python\\python37\\lib\\site-packages (from ipython>=1.0->ipython-sql) (0.18.0)\n",
      "Requirement already satisfied: pygments in c:\\users\\marcel\\appdata\\local\\programs\\python\\python37\\lib\\site-packages (from ipython>=1.0->ipython-sql) (2.8.1)\n",
      "Requirement already satisfied: prompt-toolkit!=3.0.0,!=3.0.1,<3.1.0,>=2.0.0 in c:\\users\\marcel\\appdata\\local\\programs\\python\\python37\\lib\\site-packages (from ipython>=1.0->ipython-sql) (3.0.18)\n",
      "Requirement already satisfied: colorama in c:\\users\\marcel\\appdata\\local\\programs\\python\\python37\\lib\\site-packages (from ipython>=1.0->ipython-sql) (0.4.4)\n",
      "Requirement already satisfied: backcall in c:\\users\\marcel\\appdata\\local\\programs\\python\\python37\\lib\\site-packages (from ipython>=1.0->ipython-sql) (0.2.0)\n",
      "Requirement already satisfied: pickleshare in c:\\users\\marcel\\appdata\\local\\programs\\python\\python37\\lib\\site-packages (from ipython>=1.0->ipython-sql) (0.7.5)\n",
      "Requirement already satisfied: decorator in c:\\users\\marcel\\appdata\\local\\programs\\python\\python37\\lib\\site-packages (from ipython>=1.0->ipython-sql) (4.4.2)\n",
      "Requirement already satisfied: traitlets>=4.2 in c:\\users\\marcel\\appdata\\local\\programs\\python\\python37\\lib\\site-packages (from ipython>=1.0->ipython-sql) (5.0.5)\n",
      "Requirement already satisfied: setuptools>=18.5 in c:\\users\\marcel\\appdata\\local\\programs\\python\\python37\\lib\\site-packages (from ipython>=1.0->ipython-sql) (41.2.0)\n",
      "Requirement already satisfied: greenlet!=0.4.17 in c:\\users\\marcel\\appdata\\local\\programs\\python\\python37\\lib\\site-packages (from sqlalchemy>=0.6.7->ipython-sql) (1.1.2)\n",
      "Requirement already satisfied: importlib-metadata in c:\\users\\marcel\\appdata\\local\\programs\\python\\python37\\lib\\site-packages (from sqlalchemy>=0.6.7->ipython-sql) (3.9.0)\n",
      "Requirement already satisfied: parso<0.9.0,>=0.8.0 in c:\\users\\marcel\\appdata\\local\\programs\\python\\python37\\lib\\site-packages (from jedi>=0.16->ipython>=1.0->ipython-sql) (0.8.1)\n",
      "Requirement already satisfied: wcwidth in c:\\users\\marcel\\appdata\\local\\programs\\python\\python37\\lib\\site-packages (from prompt-toolkit!=3.0.0,!=3.0.1,<3.1.0,>=2.0.0->ipython>=1.0->ipython-sql) (0.2.5)\n",
      "Requirement already satisfied: typing-extensions>=3.6.4 in c:\\users\\marcel\\appdata\\local\\programs\\python\\python37\\lib\\site-packages (from importlib-metadata->sqlalchemy>=0.6.7->ipython-sql) (3.7.4.3)\n",
      "Requirement already satisfied: zipp>=0.5 in c:\\users\\marcel\\appdata\\local\\programs\\python\\python37\\lib\\site-packages (from importlib-metadata->sqlalchemy>=0.6.7->ipython-sql) (3.4.1)\n"
     ]
    }
   ],
   "source": [
    "!pip install ipython-sql"
   ]
  },
  {
   "cell_type": "code",
   "execution_count": 2,
   "id": "outdoor-nicholas",
   "metadata": {},
   "outputs": [],
   "source": [
    "%load_ext sql"
   ]
  },
  {
   "cell_type": "code",
   "execution_count": 3,
   "id": "preliminary-qualification",
   "metadata": {},
   "outputs": [],
   "source": [
    "%sql sqlite://"
   ]
  },
  {
   "cell_type": "code",
   "execution_count": 4,
   "id": "dying-namibia",
   "metadata": {},
   "outputs": [],
   "source": [
    "import pandas as pd\n",
    "import sqlite3"
   ]
  },
  {
   "cell_type": "markdown",
   "id": "institutional-store",
   "metadata": {},
   "source": [
    "Create a table and DB (if not created yet)"
   ]
  },
  {
   "cell_type": "code",
   "execution_count": 66,
   "id": "floating-forth",
   "metadata": {},
   "outputs": [],
   "source": [
    "def create_table():\n",
    "    conn = sqlite3.connect('portfolio.db')\n",
    "    c = conn.cursor()\n",
    "    try:\n",
    "        # actual value (from last input POV)\n",
    "        c.execute(\"\"\"\n",
    "            CREATE TABLE DCA_portfolio (\n",
    "            company_name text,\n",
    "            ticker text,\n",
    "            shares integer,\n",
    "            last_buy_price real,\n",
    "            avg_price real,\n",
    "            invested_value real,\n",
    "            actual_value real,\n",
    "            profit real,\n",
    "            share_in_portfolio real\n",
    "            )\"\"\")\n",
    "        conn.commit()\n",
    "        conn.close()\n",
    "    except Exception as e:\n",
    "        conn.commit()\n",
    "        conn.close()\n",
    "        print(e)"
   ]
  },
  {
   "cell_type": "code",
   "execution_count": 67,
   "id": "productive-telescope",
   "metadata": {},
   "outputs": [
    {
     "name": "stdout",
     "output_type": "stream",
     "text": [
      "table DCA_portfolio already exists\n"
     ]
    }
   ],
   "source": [
    "create_table()"
   ]
  },
  {
   "cell_type": "markdown",
   "id": "comfortable-conjunction",
   "metadata": {},
   "source": [
    "Insert some test data statically"
   ]
  },
  {
   "cell_type": "code",
   "execution_count": 68,
   "id": "infrared-settle",
   "metadata": {},
   "outputs": [],
   "source": [
    "def insert_test_data():\n",
    "    ''' Used just for initial testing '''\n",
    "    conn = sqlite3.connect('portfolio.db')\n",
    "    c = conn.cursor()\n",
    "    c.execute(\"INSERT INTO DCA_portfolio VALUES (?,?,?,?,?,?,?,?,?)\", ('company_name', 'xxx', 100, 50.2, 48.25, 4825, 5020, 195, 1))\n",
    "    c.execute(\"INSERT INTO DCA_portfolio VALUES (?,?,?,?,?,?,?,?,?)\", ('company_name2', 'yyy', 75, 102.5, 102.5, 7687.5, 7687.5, 0, 1))\n",
    "    conn.commit()\n",
    "    conn.close()"
   ]
  },
  {
   "cell_type": "code",
   "execution_count": 69,
   "id": "otherwise-specification",
   "metadata": {},
   "outputs": [],
   "source": [
    "# insert_test_data()"
   ]
  },
  {
   "cell_type": "markdown",
   "id": "exceptional-reproduction",
   "metadata": {},
   "source": [
    "Show the portfolio with test data"
   ]
  },
  {
   "cell_type": "code",
   "execution_count": 70,
   "id": "static-decision",
   "metadata": {},
   "outputs": [],
   "source": [
    "def show_portfolio():\n",
    "    conn = sqlite3.connect('portfolio.db')\n",
    "    c = conn.cursor()\n",
    "    c.execute(\"SELECT * FROM DCA_portfolio\")\n",
    "    table = c.fetchall()\n",
    "    conn.commit()\n",
    "    conn.close()\n",
    "    return table"
   ]
  },
  {
   "cell_type": "code",
   "execution_count": 10,
   "id": "understanding-feeding",
   "metadata": {},
   "outputs": [
    {
     "data": {
      "text/plain": [
       "[('company_name', 'xxx', 100, 50.2, 48.25, 4825.0, 5020.0, 195.0, 1.0),\n",
       " ('company_name2', 'yyy', 75, 102.5, 102.5, 7687.5, 7687.5, 0.0, 1.0)]"
      ]
     },
     "execution_count": 10,
     "metadata": {},
     "output_type": "execute_result"
    }
   ],
   "source": [
    "show_portfolio()"
   ]
  },
  {
   "cell_type": "markdown",
   "id": "comprehensive-cycle",
   "metadata": {},
   "source": [
    "Create the functions needed to calculate values for new portfolio position"
   ]
  },
  {
   "cell_type": "code",
   "execution_count": 21,
   "id": "seasonal-sudan",
   "metadata": {},
   "outputs": [],
   "source": [
    "def get_last_buy_price(c, ticker, price):\n",
    "    c.execute(\"SELECT last_buy_price FROM DCA_portfolio WHERE ticker = ?\", (ticker,))\n",
    "    lbp = c.fetchall()\n",
    "    return lbp[0][0] if lbp else price"
   ]
  },
  {
   "cell_type": "code",
   "execution_count": 22,
   "id": "painful-environment",
   "metadata": {},
   "outputs": [],
   "source": [
    "def get_avg_price(c, ticker, price, shares):\n",
    "    c.execute(\"SELECT avg_price FROM DCA_portfolio WHERE ticker = ?\", (ticker,))\n",
    "    ap = c.fetchall()\n",
    "    if not ap:\n",
    "        return price\n",
    "    else:\n",
    "        c.execute(\"SELECT shares FROM DCA_portfolio WHERE ticker = ?\", (ticker,))\n",
    "        ash = c.fetchall()[0][0]\n",
    "        ap = ap[0][0]\n",
    "        ap = (ap * ash + shares * price)/(ash+shares)\n",
    "        return ap"
   ]
  },
  {
   "cell_type": "code",
   "execution_count": 23,
   "id": "outer-intro",
   "metadata": {},
   "outputs": [],
   "source": [
    "# get invested value\n",
    "def get_invested_value(c, ticker, price, shares):\n",
    "    c.execute(\"SELECT invested_value FROM DCA_portfolio WHERE ticker = ?\", (ticker,))\n",
    "    iv = c.fetchall()\n",
    "    if not iv:\n",
    "        return price*shares\n",
    "    else:\n",
    "        return iv[0][0]+(price*shares)"
   ]
  },
  {
   "cell_type": "code",
   "execution_count": 24,
   "id": "figured-airplane",
   "metadata": {},
   "outputs": [],
   "source": [
    "# get actual value (from last input POV)\n",
    "def get_actual_value(c, ticker, price, shares):\n",
    "    c.execute(\"SELECT actual_value FROM DCA_portfolio WHERE ticker = ?\", (ticker,))\n",
    "    av = c.fetchall()\n",
    "    if not av:\n",
    "        return price*shares\n",
    "    else:\n",
    "        c.execute(\"SELECT shares FROM DCA_portfolio WHERE ticker = ?\", (ticker,))\n",
    "        ash = c.fetchall()[0][0]\n",
    "        return price*(shares+ash)"
   ]
  },
  {
   "cell_type": "code",
   "execution_count": 52,
   "id": "encouraging-chuck",
   "metadata": {},
   "outputs": [],
   "source": [
    "def get_share_in_portfolio(c, actual_value):\n",
    "    ''' get the current size of the position in the portfolio [%] '''\n",
    "    c.execute(\"SELECT actual_value FROM DCA_portfolio \")\n",
    "    psvl = c.fetchall()\n",
    "    if not psvl:\n",
    "        return 100\n",
    "    else:\n",
    "        avl = [x[0] for x in psvl]\n",
    "        return 100*actual_value/(sum(avl)+actual_value) # sum of existing + the new position"
   ]
  },
  {
   "cell_type": "markdown",
   "id": "matched-ranking",
   "metadata": {},
   "source": [
    "Function for adding new position into portfolio"
   ]
  },
  {
   "cell_type": "code",
   "execution_count": 35,
   "id": "fleet-dialogue",
   "metadata": {},
   "outputs": [],
   "source": [
    "# would be better to perform it as a class\n",
    "def add_asset(company_name, ticker, shares, price):\n",
    "    conn = sqlite3.connect('portfolio.db')\n",
    "    c = conn.cursor()\n",
    "    \n",
    "    last_buy_price = get_last_buy_price(c, ticker, price)\n",
    "    avg_price = get_avg_price(c, ticker, price, shares)\n",
    "    invested_value = get_invested_value(c, ticker, price, shares)\n",
    "    actual_value = get_actual_value(c, ticker, price, shares)\n",
    "    profit = 100*(actual_value-invested_value)/invested_value\n",
    "    share_in_portfolio = get_share_in_portfolio(c, actual_value) # that will need to be updated (the values to be wrong after adding new asset)\n",
    "    \n",
    "    c.execute(\"INSERT INTO DCA_portfolio VALUES (?,?,?,?,?,?,?,?,?)\", (company_name, ticker, shares, last_buy_price, avg_price, invested_value, actual_value, profit, share_in_portfolio))\n",
    "\n",
    "    conn.commit()\n",
    "    conn.close()"
   ]
  },
  {
   "cell_type": "markdown",
   "id": "deadly-naples",
   "metadata": {},
   "source": [
    "Let's add a test asset"
   ]
  },
  {
   "cell_type": "code",
   "execution_count": 36,
   "id": "pending-rally",
   "metadata": {},
   "outputs": [],
   "source": [
    "add_asset('test', 't2', 200, 37.5)"
   ]
  },
  {
   "cell_type": "markdown",
   "id": "distributed-wallace",
   "metadata": {},
   "source": [
    "After adding at least one asset the share_in_portfolio column needs to be updated"
   ]
  },
  {
   "cell_type": "code",
   "execution_count": 71,
   "id": "lyric-cinema",
   "metadata": {},
   "outputs": [],
   "source": [
    "def update_the_share_in_portfolio():\n",
    "    conn = sqlite3.connect('portfolio.db')\n",
    "    c = conn.cursor()\n",
    "    c.execute(\"SELECT company_name, actual_value FROM DCA_portfolio \") # instead of the company name the ticker can be used as well\n",
    "    psvl = c.fetchall()\n",
    "    avs = sum([x[1] for x in psvl])\n",
    "    for comp, value in psvl:\n",
    "        c.execute(\"UPDATE DCA_portfolio SET share_in_portfolio = ? WHERE company_name = ?\", (100*value/(avs), comp))\n",
    "    conn.commit()\n",
    "    conn.close()"
   ]
  },
  {
   "cell_type": "code",
   "execution_count": null,
   "id": "speaking-mongolia",
   "metadata": {},
   "outputs": [],
   "source": [
    "update_the_share_in_portfolio()"
   ]
  },
  {
   "cell_type": "markdown",
   "id": "champion-compensation",
   "metadata": {},
   "source": [
    "Let's verify the updates"
   ]
  },
  {
   "cell_type": "code",
   "execution_count": 63,
   "id": "shaped-patio",
   "metadata": {},
   "outputs": [
    {
     "data": {
      "text/plain": [
       "[('company_name',\n",
       "  'xxx',\n",
       "  100,\n",
       "  50.2,\n",
       "  48.25,\n",
       "  4825.0,\n",
       "  5020.0,\n",
       "  195.0,\n",
       "  24.84226153655821),\n",
       " ('company_name2',\n",
       "  'yyy',\n",
       "  75,\n",
       "  102.5,\n",
       "  102.5,\n",
       "  7687.5,\n",
       "  7687.5,\n",
       "  0.0,\n",
       "  38.042805888902635),\n",
       " ('test', 't2', 200, 37.5, 37.5, 7500.0, 7500.0, 0.0, 37.114932574539154)]"
      ]
     },
     "execution_count": 63,
     "metadata": {},
     "output_type": "execute_result"
    }
   ],
   "source": [
    "show_portfolio()"
   ]
  },
  {
   "cell_type": "code",
   "execution_count": null,
   "id": "elegant-relationship",
   "metadata": {},
   "outputs": [],
   "source": [
    "def update_asset(company_name, ticker, shares, price):\n",
    "    # to do similar operations for existing companies (verify the comp name and ticer)"
   ]
  }
 ],
 "metadata": {
  "kernelspec": {
   "display_name": "Python 3",
   "language": "python",
   "name": "python3"
  },
  "language_info": {
   "codemirror_mode": {
    "name": "ipython",
    "version": 3
   },
   "file_extension": ".py",
   "mimetype": "text/x-python",
   "name": "python",
   "nbconvert_exporter": "python",
   "pygments_lexer": "ipython3",
   "version": "3.7.6"
  }
 },
 "nbformat": 4,
 "nbformat_minor": 5
}
